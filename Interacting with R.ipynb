{
 "cells": [
  {
   "cell_type": "markdown",
   "metadata": {},
   "source": [
    "My data analysis workflow depends on [R](https://www.r-project.org/). I tend to use old Matlab code, run in Octave or via oct2py, or new Python code for data data wrangling. I have moved to matplotlib and seaborn for all graphics. I still depend on R for basic stats, multivariate analyses, and machine learning. There is so much in the R universe and, with the easy-to-use rpy2 library, there is no reason not to use R.\n",
    "\n",
    "%R magic is provided by rpy2, and it works really well for interactive data analysis or one-off calls to specialized libraries from [CRAN](https://cran.r-project.org/). However, for more intesive analyses of data from multiple experiemnts, I found issues with memory management in rpy2 (documented [here](https://bitbucket.org/rpy2/rpy2/issues/302/large-memory-usage-with-r-my_data_frame)). My laptop PC does not have enough RAM (8 GBs) for me to run through a batch of LFPs files from, say, a dozen experiment (e.g. 12x16 or 192 channels with typically more than a million samples. It took a bit of work to figure out how to release and clean memory between channels or files. I tried to document my solutions to this issue in the post below.\n",
    "\n",
    "A Jupyter notebook for this post is available [here]()."
   ]
  },
  {
   "cell_type": "code",
   "execution_count": 1,
   "metadata": {
    "collapsed": true
   },
   "outputs": [],
   "source": [
    "import numpy as np, pandas as pd, feather\n",
    "from scipy.io import loadmat, savemat"
   ]
  },
  {
   "cell_type": "markdown",
   "metadata": {},
   "source": [
    "(I have found that the rpy2 extension only works on my PCs [Linux Mint 17 and Anaconda for Python 3.5] if I import the readline libraary before the rpy2 extension.)"
   ]
  },
  {
   "cell_type": "code",
   "execution_count": 2,
   "metadata": {
    "collapsed": true
   },
   "outputs": [],
   "source": [
    "import readline\n",
    "%load_ext rpy2.ipython"
   ]
  },
  {
   "cell_type": "markdown",
   "metadata": {},
   "source": [
    "### the memory_profiler library\n",
    "\n",
    "I used the memory_profiler library to assess memory usage in this notebook."
   ]
  },
  {
   "cell_type": "code",
   "execution_count": 3,
   "metadata": {
    "collapsed": false
   },
   "outputs": [
    {
     "name": "stdout",
     "output_type": "stream",
     "text": [
      "[130.04296875]\n"
     ]
    }
   ],
   "source": [
    "# https://pypi.python.org/pypi/memory_profiler\n",
    "from memory_profiler import memory_usage\n",
    "mem_usage = memory_usage(-1, interval=1, timeout=1)\n",
    "print(mem_usage)"
   ]
  },
  {
   "cell_type": "markdown",
   "metadata": {},
   "source": [
    "Switch to ~/temp folder for writing files. (Most of my PCs are backed up via Dropbox and SpiderOak and I hate wasting bandwidth.)"
   ]
  },
  {
   "cell_type": "code",
   "execution_count": 4,
   "metadata": {
    "collapsed": false
   },
   "outputs": [
    {
     "name": "stdout",
     "output_type": "stream",
     "text": [
      "/home/mark/temp\n"
     ]
    }
   ],
   "source": [
    "%cd ~/temp"
   ]
  },
  {
   "cell_type": "markdown",
   "metadata": {},
   "source": [
    "clean up from previous runs, as writing over takes longer than deleting and writing"
   ]
  },
  {
   "cell_type": "code",
   "execution_count": 5,
   "metadata": {
    "collapsed": false
   },
   "outputs": [],
   "source": [
    "%rm test*.*"
   ]
  },
  {
   "cell_type": "markdown",
   "metadata": {},
   "source": [
    "### Create some data\n",
    "\n",
    "typical LFP matrix, 32 channels, 1.5 million samples at 1 kHz"
   ]
  },
  {
   "cell_type": "code",
   "execution_count": 6,
   "metadata": {
    "collapsed": true
   },
   "outputs": [],
   "source": [
    "ADmat = np.random.randn(32, 1500000) / 100"
   ]
  },
  {
   "cell_type": "code",
   "execution_count": 7,
   "metadata": {
    "collapsed": false
   },
   "outputs": [
    {
     "name": "stdout",
     "output_type": "stream",
     "text": [
      "Variable   Type       Data/Info\n",
      "-------------------------------\n",
      "ADmat      ndarray    32x1500000: 48000000 elems, type `float64`, 384000000 bytes (366.2109375 Mb)\n"
     ]
    }
   ],
   "source": [
    "whos ndarray"
   ]
  },
  {
   "cell_type": "code",
   "execution_count": 8,
   "metadata": {
    "collapsed": false
   },
   "outputs": [
    {
     "name": "stdout",
     "output_type": "stream",
     "text": [
      "[496.5546875]\n"
     ]
    }
   ],
   "source": [
    "mem_usage = memory_usage(-1, interval=1, timeout=1)\n",
    "print(mem_usage)"
   ]
  },
  {
   "cell_type": "markdown",
   "metadata": {},
   "source": [
    "save the matrix for analysis in R"
   ]
  },
  {
   "cell_type": "code",
   "execution_count": 9,
   "metadata": {
    "collapsed": false
   },
   "outputs": [],
   "source": [
    "np.save('test.npy', ADmat)"
   ]
  },
  {
   "cell_type": "code",
   "execution_count": 10,
   "metadata": {
    "collapsed": false
   },
   "outputs": [
    {
     "name": "stdout",
     "output_type": "stream",
     "text": [
      "375012 -rw-r--r-- 1 mark mark 384000080 Aug  1 11:42 test.npy\r\n"
     ]
    }
   ],
   "source": [
    "%ls -lstr test.npy"
   ]
  },
  {
   "cell_type": "code",
   "execution_count": 11,
   "metadata": {
    "collapsed": false
   },
   "outputs": [
    {
     "name": "stdout",
     "output_type": "stream",
     "text": [
      "[496.60546875]\n"
     ]
    }
   ],
   "source": [
    "mem_usage = memory_usage(-1, interval=1, timeout=1)\n",
    "print(mem_usage)"
   ]
  },
  {
   "cell_type": "markdown",
   "metadata": {},
   "source": [
    "### load into R using R magic"
   ]
  },
  {
   "cell_type": "markdown",
   "metadata": {},
   "source": [
    "[RcppCNPy](https://cran.rstudio.com/web/packages/RcppCNPy/index.html) is a fantastic library for R that lets you read and write numpy data file."
   ]
  },
  {
   "cell_type": "code",
   "execution_count": 12,
   "metadata": {
    "collapsed": false
   },
   "outputs": [],
   "source": [
    "%%R\n",
    "library(RcppCNPy)\n",
    "setwd(\"~/temp\")\n",
    "ADmat = npyLoad('test.npy', type=\"numeric\", dotranspose=FALSE)"
   ]
  },
  {
   "cell_type": "code",
   "execution_count": 13,
   "metadata": {
    "collapsed": false
   },
   "outputs": [
    {
     "data": {
      "text/plain": [
       " num [1:32, 1:1500000] 0.017809 -0.006086 0.002423 -0.000249 -0.013145 ...\n"
      ]
     },
     "metadata": {},
     "output_type": "display_data"
    }
   ],
   "source": [
    "%R str(ADmat)"
   ]
  },
  {
   "cell_type": "code",
   "execution_count": 14,
   "metadata": {
    "collapsed": false
   },
   "outputs": [
    {
     "data": {
      "text/plain": [
       "array(['ADmat'], \n",
       "      dtype='<U5')"
      ]
     },
     "execution_count": 14,
     "metadata": {},
     "output_type": "execute_result"
    }
   ],
   "source": [
    "%R ls()"
   ]
  },
  {
   "cell_type": "code",
   "execution_count": 15,
   "metadata": {
    "collapsed": false
   },
   "outputs": [
    {
     "name": "stdout",
     "output_type": "stream",
     "text": [
      "[877.0546875]\n"
     ]
    }
   ],
   "source": [
    "mem_usage = memory_usage(-1, interval=1, timeout=1)\n",
    "print(mem_usage)"
   ]
  },
  {
   "cell_type": "markdown",
   "metadata": {},
   "source": [
    "remove ADmat to assess memory use with Rpush below"
   ]
  },
  {
   "cell_type": "code",
   "execution_count": 16,
   "metadata": {
    "collapsed": true
   },
   "outputs": [],
   "source": [
    "%R rm(list=ls())"
   ]
  },
  {
   "cell_type": "code",
   "execution_count": 17,
   "metadata": {
    "collapsed": false
   },
   "outputs": [
    {
     "data": {
      "text/plain": [
       "array([], dtype=float64)"
      ]
     },
     "execution_count": 17,
     "metadata": {},
     "output_type": "execute_result"
    }
   ],
   "source": [
    "%R ls()"
   ]
  },
  {
   "cell_type": "code",
   "execution_count": 18,
   "metadata": {
    "collapsed": false
   },
   "outputs": [
    {
     "name": "stdout",
     "output_type": "stream",
     "text": [
      "[877.0546875]\n"
     ]
    }
   ],
   "source": [
    "mem_usage = memory_usage(-1, interval=1, timeout=1)\n",
    "print(mem_usage)"
   ]
  },
  {
   "cell_type": "markdown",
   "metadata": {},
   "source": [
    "ADmat is gone but memory is not released"
   ]
  },
  {
   "cell_type": "code",
   "execution_count": 19,
   "metadata": {
    "collapsed": false
   },
   "outputs": [],
   "source": [
    "%R gc(); # garbage collection"
   ]
  },
  {
   "cell_type": "code",
   "execution_count": 20,
   "metadata": {
    "collapsed": false
   },
   "outputs": [
    {
     "name": "stdout",
     "output_type": "stream",
     "text": [
      "[510.95703125]\n"
     ]
    }
   ],
   "source": [
    "mem_usage = memory_usage(-1, interval=1, timeout=1)\n",
    "print(mem_usage)"
   ]
  },
  {
   "cell_type": "markdown",
   "metadata": {},
   "source": [
    "now the memory is released"
   ]
  },
  {
   "cell_type": "markdown",
   "metadata": {},
   "source": [
    "------------------"
   ]
  },
  {
   "cell_type": "code",
   "execution_count": 21,
   "metadata": {
    "collapsed": false
   },
   "outputs": [],
   "source": [
    "%Rpush ADmat"
   ]
  },
  {
   "cell_type": "markdown",
   "metadata": {},
   "source": [
    "htop (and some calcs in bc) report an extra 340 to 360 MB (variable over runs) following Rpush... why?"
   ]
  },
  {
   "cell_type": "code",
   "execution_count": 22,
   "metadata": {
    "collapsed": false
   },
   "outputs": [
    {
     "data": {
      "text/plain": [
       " num [1:32, 1:1500000] 0.0178 0.0141 0.0032 0.004 -0.0101 ...\n"
      ]
     },
     "metadata": {},
     "output_type": "display_data"
    }
   ],
   "source": [
    "%R str(ADmat)"
   ]
  },
  {
   "cell_type": "code",
   "execution_count": 23,
   "metadata": {
    "collapsed": false
   },
   "outputs": [
    {
     "data": {
      "text/plain": [
       "array(['ADmat'], \n",
       "      dtype='<U5')"
      ]
     },
     "execution_count": 23,
     "metadata": {},
     "output_type": "execute_result"
    }
   ],
   "source": [
    "%R ls()"
   ]
  },
  {
   "cell_type": "code",
   "execution_count": 24,
   "metadata": {
    "collapsed": false
   },
   "outputs": [
    {
     "name": "stdout",
     "output_type": "stream",
     "text": [
      "[1244.09375]\n"
     ]
    }
   ],
   "source": [
    "mem_usage = memory_usage(-1, interval=1, timeout=1)\n",
    "print(mem_usage)"
   ]
  },
  {
   "cell_type": "markdown",
   "metadata": {},
   "source": [
    "%Rpush uses a lot more memory than if you save the file with numpy and load into R using the RcppCNPy library!"
   ]
  },
  {
   "cell_type": "code",
   "execution_count": 25,
   "metadata": {
    "collapsed": true
   },
   "outputs": [],
   "source": [
    "%R rm(ADmat)"
   ]
  },
  {
   "cell_type": "code",
   "execution_count": 26,
   "metadata": {
    "collapsed": false
   },
   "outputs": [
    {
     "name": "stdout",
     "output_type": "stream",
     "text": [
      "[1244.1171875]\n"
     ]
    }
   ],
   "source": [
    "mem_usage = memory_usage(-1, interval=1, timeout=1)\n",
    "print(mem_usage)"
   ]
  },
  {
   "cell_type": "code",
   "execution_count": 27,
   "metadata": {
    "collapsed": true
   },
   "outputs": [],
   "source": [
    "%R gc(); "
   ]
  },
  {
   "cell_type": "code",
   "execution_count": 28,
   "metadata": {
    "collapsed": false
   },
   "outputs": [
    {
     "name": "stdout",
     "output_type": "stream",
     "text": [
      "[877.9140625]\n"
     ]
    }
   ],
   "source": [
    "mem_usage = memory_usage(-1, interval=1, timeout=1)\n",
    "print(mem_usage)"
   ]
  },
  {
   "cell_type": "markdown",
   "metadata": {},
   "source": [
    "now the memory consumed by ADmat is released but the extra memory is still consumed"
   ]
  },
  {
   "cell_type": "code",
   "execution_count": 29,
   "metadata": {
    "collapsed": false
   },
   "outputs": [
    {
     "data": {
      "text/plain": [
       "array([], dtype=float64)"
      ]
     },
     "execution_count": 29,
     "metadata": {},
     "output_type": "execute_result"
    }
   ],
   "source": [
    "%R ls()"
   ]
  },
  {
   "cell_type": "markdown",
   "metadata": {},
   "source": [
    "the empy array is there after ADmat is gone"
   ]
  },
  {
   "cell_type": "code",
   "execution_count": 30,
   "metadata": {
    "collapsed": true
   },
   "outputs": [],
   "source": [
    "%R rm(list=ls())"
   ]
  },
  {
   "cell_type": "code",
   "execution_count": 31,
   "metadata": {
    "collapsed": false
   },
   "outputs": [
    {
     "name": "stdout",
     "output_type": "stream",
     "text": [
      "[877.9140625]\n"
     ]
    }
   ],
   "source": [
    "mem_usage = memory_usage(-1, interval=1, timeout=1)\n",
    "print(mem_usage)"
   ]
  },
  {
   "cell_type": "code",
   "execution_count": 32,
   "metadata": {
    "collapsed": true
   },
   "outputs": [],
   "source": [
    "%R gc();"
   ]
  },
  {
   "cell_type": "code",
   "execution_count": 33,
   "metadata": {
    "collapsed": false
   },
   "outputs": [
    {
     "name": "stdout",
     "output_type": "stream",
     "text": [
      "[511.7109375]\n"
     ]
    }
   ],
   "source": [
    "mem_usage = memory_usage(-1, interval=1, timeout=1)\n",
    "print(mem_usage)"
   ]
  },
  {
   "cell_type": "markdown",
   "metadata": {},
   "source": [
    "now we are back to where we started!"
   ]
  },
  {
   "cell_type": "markdown",
   "metadata": {},
   "source": [
    "### Conclusions\n",
    "- Clear the R workspace of _all_ variables and run gc between loops\n",
    "- If your data takes up a lot of memory, use numpy to save the variables into files and load them in R using the RcppCNPy library."
   ]
  }
 ],
 "metadata": {
  "anaconda-cloud": {},
  "kernelspec": {
   "display_name": "Python 3",
   "language": "python",
   "name": "python3"
  },
  "language_info": {
   "codemirror_mode": {
    "name": "ipython",
    "version": 3
   },
   "file_extension": ".py",
   "mimetype": "text/x-python",
   "name": "python",
   "nbconvert_exporter": "python",
   "pygments_lexer": "ipython3",
   "version": "3.5.2"
  }
 },
 "nbformat": 4,
 "nbformat_minor": 0
}
