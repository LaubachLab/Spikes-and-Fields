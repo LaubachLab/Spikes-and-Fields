{
 "cells": [
  {
   "cell_type": "markdown",
   "metadata": {},
   "source": [
    "This post demonstrates how [oct2py](https://pypi.python.org/pypi/oct2py) can be used to run legacy Matlab/Octave code to load data saved in NeuroExplorer files into Python. As will be illustrated in a forthcoming post, this same approach can be used to run existing Matlab/Octave code in an integrated Jupyter notebook with Python kernel. \n",
    "\n",
    "[Matlab/Octave code for working with NEx files](http://www.neuroexplorer.com/downloads/HowToReadAndWriteNexAndNex5FilesInMatlab.zip) and a [test file](http://www.neuroexplorer.com/downloads/SampleDataForNeuroshareDLL.zip) can be obtained from the [NeuroExplorer website](http://www.neuroexplorer.com/).\n",
    "\n",
    "My lab has used an older set of m files written by Alex Kirillov (author of NeuroExplorer) and updated by us to deal with changes in Matlab over the years. We no longer use Matlab and our older m files for reading NEx files work perfectly well in [GNU Octave](https://www.gnu.org/software/octave/). The three main files that we use are available from our [GitHub repository](https://github.com/LaubachLab/Spikes-and-Fields): nex_info, nex_ts, and nex_cont."
   ]
  },
  {
   "cell_type": "code",
   "execution_count": 1,
   "metadata": {
    "collapsed": true
   },
   "outputs": [],
   "source": [
    "import numpy as np\n",
    "from scipy.io import loadmat\n",
    "%load_ext oct2py.ipython"
   ]
  },
  {
   "cell_type": "code",
   "execution_count": 2,
   "metadata": {
    "collapsed": false
   },
   "outputs": [
    {
     "name": "stdout",
     "output_type": "stream",
     "text": [
      "/home/mark/Desktop/Spikes-and-Fields/NEx-demo\n"
     ]
    }
   ],
   "source": [
    "%cd ~/Desktop/Spikes-and-Fields/NEx-demo"
   ]
  },
  {
   "cell_type": "markdown",
   "metadata": {},
   "source": [
    "**Read files in an Octave session**\n",
    "\n",
    "The command %octave is the \"octave magic\" function that let's you run raw Matlab/Octave code in a Python notebook. \n",
    "\n",
    "For a batch of commenda, use %%octave in the first line of a code cell. The rest of the cell is pure Octave/Matlab code. %%octave -o var returns a variable from the cell directly to the Python memoryspace."
   ]
  },
  {
   "cell_type": "code",
   "execution_count": 3,
   "metadata": {
    "collapsed": false
   },
   "outputs": [
    {
     "data": {
      "text/plain": [
       "file = TestDataFileForNeuroshare.nex"
      ]
     },
     "metadata": {},
     "output_type": "display_data"
    }
   ],
   "source": [
    "%octave [nvar, names, types] = nex_info('TestDataFileForNeuroshare.nex');"
   ]
  },
  {
   "cell_type": "markdown",
   "metadata": {},
   "source": [
    "%octave_pull and %octave_push are used to send variables between Octave and Python."
   ]
  },
  {
   "cell_type": "code",
   "execution_count": 4,
   "metadata": {
    "collapsed": true
   },
   "outputs": [],
   "source": [
    "%octave_pull nvar names types"
   ]
  },
  {
   "cell_type": "markdown",
   "metadata": {},
   "source": [
    "- nvar is the number of variables in the NEx file\n",
    "- names are strings for each variable\n",
    "- types are the types of data (0-neuron, 1-event, 2-interval, 3-waveform, 4-population vector, 5-continuous variable, 6 - marker)"
   ]
  },
  {
   "cell_type": "code",
   "execution_count": 5,
   "metadata": {
    "collapsed": false
   },
   "outputs": [
    {
     "name": "stdout",
     "output_type": "stream",
     "text": [
      "Variable   Type        Data/Info\n",
      "--------------------------------\n",
      "loadmat    function    <function loadmat at 0x7fd855b7c0d0>\n",
      "names      ndarray     18: 18 elems, type `<U64`, 4608 bytes\n",
      "np         module      <module 'numpy' from '/ho<...>kages/numpy/__init__.py'>\n",
      "nvar       float64     18.0\n",
      "types      ndarray     1x18: 18 elems, type `float64`, 144 bytes\n"
     ]
    }
   ],
   "source": [
    "%whos"
   ]
  },
  {
   "cell_type": "markdown",
   "metadata": {},
   "source": [
    "Some issues come up with variable types using this approach, and a few adjustments are needed once the variables are pulled into Python."
   ]
  },
  {
   "cell_type": "code",
   "execution_count": 6,
   "metadata": {
    "collapsed": false
   },
   "outputs": [],
   "source": [
    "nvar = nvar.astype(int)  # nvar should really be an integer\n",
    "types = types.flatten()  # types should really be a flat array"
   ]
  },
  {
   "cell_type": "code",
   "execution_count": 7,
   "metadata": {
    "collapsed": false
   },
   "outputs": [
    {
     "name": "stdout",
     "output_type": "stream",
     "text": [
      "Variable   Type        Data/Info\n",
      "--------------------------------\n",
      "loadmat    function    <function loadmat at 0x7fd855b7c0d0>\n",
      "names      ndarray     18: 18 elems, type `<U64`, 4608 bytes\n",
      "np         module      <module 'numpy' from '/ho<...>kages/numpy/__init__.py'>\n",
      "nvar       int64       18\n",
      "types      ndarray     18: 18 elems, type `float64`, 144 bytes\n"
     ]
    }
   ],
   "source": [
    "%whos"
   ]
  },
  {
   "cell_type": "markdown",
   "metadata": {},
   "source": [
    "Let's load the neuron's time stamps into Python"
   ]
  },
  {
   "cell_type": "code",
   "execution_count": 8,
   "metadata": {
    "collapsed": false
   },
   "outputs": [
    {
     "data": {
      "text/plain": [
       "array(['Neuron04a', 'Neuron05b', 'Neuron05c', 'Neuron06b', 'Neuron06d',\n",
       "       'Neuron07a'], \n",
       "      dtype='<U64')"
      ]
     },
     "execution_count": 8,
     "metadata": {},
     "output_type": "execute_result"
    }
   ],
   "source": [
    "names[types==0]"
   ]
  },
  {
   "cell_type": "markdown",
   "metadata": {},
   "source": [
    "It is very easy to load the variables that are needed into the Octave session, save them into a mat file, and load them into Python using SciPy's loadmat function.\n",
    "\n",
    "Let's say we want to bring in one of the continuous recordings (ContChannel01) and a behavioral event (Event04) for an LFP using the [MNE toolbox](http://martinos.org/mne/stable/index.html)."
   ]
  },
  {
   "cell_type": "code",
   "execution_count": 9,
   "metadata": {
    "collapsed": false
   },
   "outputs": [
    {
     "data": {
      "text/plain": []
     },
     "metadata": {},
     "output_type": "display_data"
    }
   ],
   "source": [
    "%%octave\n",
    "[~, Event04] = nex_ts('TestDataFileForNeuroshare.nex', 'Event04');\n",
    "[adfreq, n, ts, fn, AD01] = nex_cont('TestDataFileForNeuroshare.nex', 'ContChannel01');    "
   ]
  },
  {
   "cell_type": "code",
   "execution_count": 10,
   "metadata": {
    "collapsed": false
   },
   "outputs": [
    {
     "name": "stdout",
     "output_type": "stream",
     "text": [
      "Variable   Type        Data/Info\n",
      "--------------------------------\n",
      "AD01       ndarray     1x610207: 610207 elems, type `float64`, 4881656 bytes (4.655509948730469 Mb)\n",
      "Event04    ndarray     1x862: 862 elems, type `float64`, 6896 bytes\n",
      "adfreq     float64     10000.0\n",
      "loadmat    function    <function loadmat at 0x7fd855b7c0d0>\n",
      "names      ndarray     18: 18 elems, type `<U64`, 4608 bytes\n",
      "np         module      <module 'numpy' from '/ho<...>kages/numpy/__init__.py'>\n",
      "nvar       int64       18\n",
      "ts         float64     0.0004\n",
      "types      ndarray     18: 18 elems, type `float64`, 144 bytes\n"
     ]
    }
   ],
   "source": [
    "%octave_pull Event04 adfreq ts AD01\n",
    "%whos"
   ]
  },
  {
   "cell_type": "markdown",
   "metadata": {},
   "source": [
    "Again, the time stamps and continuous variables need to be flattened.\n",
    "\n",
    "The floating point numbers are fine. (adfreq is the sampling frequency and ts is the time difference between saving time stamps in the Plexon recording system and the continuous signals on the AD card.)"
   ]
  },
  {
   "cell_type": "code",
   "execution_count": 11,
   "metadata": {
    "collapsed": false
   },
   "outputs": [
    {
     "name": "stdout",
     "output_type": "stream",
     "text": [
      "Variable   Type        Data/Info\n",
      "--------------------------------\n",
      "AD01       ndarray     610207: 610207 elems, type `float64`, 4881656 bytes (4.655509948730469 Mb)\n",
      "Event04    ndarray     862: 862 elems, type `float64`, 6896 bytes\n",
      "adfreq     float64     10000.0\n",
      "loadmat    function    <function loadmat at 0x7fd855b7c0d0>\n",
      "names      ndarray     18: 18 elems, type `<U64`, 4608 bytes\n",
      "np         module      <module 'numpy' from '/ho<...>kages/numpy/__init__.py'>\n",
      "nvar       int64       18\n",
      "ts         float64     0.0004\n",
      "types      ndarray     18: 18 elems, type `float64`, 144 bytes\n"
     ]
    }
   ],
   "source": [
    "AD01 = AD01.flatten()\n",
    "Event04 = Event04.flatten()\n",
    "%whos"
   ]
  }
 ],
 "metadata": {
  "kernelspec": {
   "display_name": "Python 3",
   "language": "python",
   "name": "python3"
  },
  "language_info": {
   "codemirror_mode": {
    "name": "ipython",
    "version": 3
   },
   "file_extension": ".py",
   "mimetype": "text/x-python",
   "name": "python",
   "nbconvert_exporter": "python",
   "pygments_lexer": "ipython3",
   "version": "3.5.2"
  }
 },
 "nbformat": 4,
 "nbformat_minor": 1
}
